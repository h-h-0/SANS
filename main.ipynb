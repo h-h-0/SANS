{
  "cells": [
    {
      "cell_type": "markdown",
      "id": "7fe95a38",
      "metadata": {
        "id": "7fe95a38"
      },
      "source": [
        "# SANS: Using CNN to predict model ID\n",
        "We will utilize the zenodo [repository](https://zenodo.org/records/10119316) as our data for this project. We will download the dataset files in the `./data/` directory."
      ]
    },
    {
      "cell_type": "code",
      "execution_count": null,
      "id": "34a5c907",
      "metadata": {
        "id": "34a5c907"
      },
      "outputs": [],
      "source": [
        "%colors lightbg\n",
        "%matplotlib inline"
      ]
    },
    {
      "cell_type": "code",
      "execution_count": null,
      "id": "c60faf40",
      "metadata": {
        "id": "c60faf40"
      },
      "outputs": [],
      "source": [
        "import h5py\n",
        "import fsspec\n",
        "import torch\n",
        "from torch import nn\n",
        "import pickle\n",
        "import torchvision\n",
        "import matplotlib.pyplot as plt\n",
        "from torch.utils.data import DataLoader\n",
        "from torch.utils.data import Dataset\n",
        "import torch.nn.functional as F\n",
        "import torch.optim as optim"
      ]
    },
    {
      "cell_type": "markdown",
      "id": "dc108ad0",
      "metadata": {
        "id": "dc108ad0"
      },
      "source": [
        "## load data"
      ]
    },
    {
      "cell_type": "code",
      "execution_count": null,
      "id": "5cf141f4",
      "metadata": {
        "id": "5cf141f4"
      },
      "outputs": [],
      "source": [
        "# ----------- RUN THIS CELL IF YOU WANT TO DOWNLOAD THE DATA SET -------------\n",
        "#!curl -o train.h5 https://zenodo.org/records/10119316/files/train.h5\n",
        "#!curl -o test.h5 https://zenodo.org/records/10119316/files/test.h5\n",
        "#!curl -o val.h5 https://zenodo.org/records/10119316/files/val.h5"
      ]
    },
    {
      "cell_type": "code",
      "execution_count": null,
      "id": "85e743d0",
      "metadata": {
        "id": "85e743d0",
        "outputId": "be37644c-f422-4e58-e237-7d72bd0ebc70"
      },
      "outputs": [
        {
          "data": {
            "text/plain": [
              "'\\ntrain_url = \"https://zenodo.org/records/10119316/files/train.h5\"\\ntest_url = \"https://zenodo.org/records/10119316/files/test.h5\"\\nval_url = \"https://zenodo.org/records/10119316/files/val.h5\"\\nremote_f = fsspec.open(train_url, mode=\"rb\")\\nif hasattr(remote_f, \"open\"):\\n    remote_f = remote_f.open()\\'\\n'"
            ]
          },
          "execution_count": 3,
          "metadata": {},
          "output_type": "execute_result"
        }
      ],
      "source": [
        "# --------- TO DIRECTLY RUN DATA FROM THE REPO ------------\n",
        "'''\n",
        "train_url = \"https://zenodo.org/records/10119316/files/train.h5\"\n",
        "test_url = \"https://zenodo.org/records/10119316/files/test.h5\"\n",
        "val_url = \"https://zenodo.org/records/10119316/files/val.h5\"\n",
        "remote_f = fsspec.open(train_url, mode=\"rb\")\n",
        "if hasattr(remote_f, \"open\"):\n",
        "    remote_f = remote_f.open()'\n",
        "'''"
      ]
    },
    {
      "cell_type": "code",
      "execution_count": null,
      "id": "98d9190b",
      "metadata": {
        "id": "98d9190b"
      },
      "outputs": [],
      "source": [
        "#train_file = h5py.File(\"./data/train.h5\", \"r\")\n",
        "#test_file = h5py.File(\"./data/test.h5\", \"r\")\n",
        "#val_file = h5py.File(\"./data/val.h5\", \"r\")\n",
        "#print(train_file.keys())"
      ]
    },
    {
      "cell_type": "code",
      "execution_count": null,
      "id": "0ce2b42f",
      "metadata": {
        "id": "0ce2b42f"
      },
      "outputs": [],
      "source": [
        "#print(train_file['data'], train_file['target'])"
      ]
    },
    {
      "cell_type": "code",
      "execution_count": null,
      "id": "b7934a10",
      "metadata": {
        "id": "b7934a10"
      },
      "outputs": [],
      "source": [
        "class H5Dataset(Dataset):\n",
        "    def __init__(self, h5_path, transforms=None):\n",
        "        self.h5_file = h5py.File(h5_path, \"r\")\n",
        "        self.transform = transforms\n",
        "\n",
        "    def __getitem__(self, index):\n",
        "        sample = self.h5_file[\"data\"][index]\n",
        "        if self.transform is not None:\n",
        "            sample = self.transform(sample)\n",
        "        return (\n",
        "            sample,\n",
        "            int(self.h5_file[\"target\"][index]),\n",
        "        )\n",
        "\n",
        "    def __len__(self):\n",
        "        return self.h5_file[\"target\"].size"
      ]
    },
    {
      "cell_type": "code",
      "execution_count": null,
      "id": "cb701191",
      "metadata": {
        "id": "cb701191"
      },
      "outputs": [],
      "source": [
        "transforms = torchvision.transforms.Compose(\n",
        "    [\n",
        "        torchvision.transforms.ToTensor(),\n",
        "        torchvision.transforms.Resize((180, 180), antialias=True),\n",
        "        torch.nn.ReLU(inplace=True),  # remove negative values if any\n",
        "        torchvision.transforms.Lambda(lambda x: torch.log(x + 1.0)),\n",
        "        torchvision.transforms.Lambda(\n",
        "            lambda x: x / torch.max(x) if torch.max(x) > 0 else x\n",
        "        ),\n",
        "    ]\n",
        ")\n",
        "train_data = H5Dataset(\"./data/train.h5\")\n",
        "test_data = H5Dataset(\"./data/test.h5\")\n",
        "val_data = H5Dataset(\"./data/val.h5\")"
      ]
    },
    {
      "cell_type": "code",
      "execution_count": null,
      "id": "a1340b58",
      "metadata": {
        "id": "a1340b58",
        "outputId": "1522441b-1381-4d53-ac56-11b2dea3d865"
      },
      "outputs": [
        {
          "name": "stdout",
          "output_type": "stream",
          "text": [
            "181531\n"
          ]
        }
      ],
      "source": [
        "print(len(train_data))"
      ]
    },
    {
      "cell_type": "markdown",
      "id": "5a437e4c",
      "metadata": {
        "id": "5a437e4c"
      },
      "source": [
        "### Plotting a typical 2D intensity array"
      ]
    },
    {
      "cell_type": "code",
      "execution_count": null,
      "id": "12b6ab18",
      "metadata": {
        "id": "12b6ab18",
        "outputId": "1f2cdb5b-d396-4dbe-a89d-89ffcbc10d25"
      },
      "outputs": [
        {
          "data": {
            "image/png": "[encoded data removed]",
            "text/plain": [
              "<Figure size 640x480 with 1 Axes>"
            ]
          },
          "metadata": {},
          "output_type": "display_data"
        }
      ],
      "source": [
        "idx = 537\n",
        "psd_array = train_data[idx][0]\n",
        "target = train_data[idx][1]\n",
        "plt.figure()\n",
        "plt.imshow(psd_array)\n",
        "plt.title(target)\n",
        "plt.show()"
      ]
    },
    {
      "cell_type": "markdown",
      "id": "3092a0ce",
      "metadata": {
        "id": "3092a0ce"
      },
      "source": [
        "### exploring the model names"
      ]
    },
    {
      "cell_type": "markdown",
      "id": "6fb6d8d9",
      "metadata": {
        "id": "6fb6d8d9"
      },
      "source": [
        "Manually add the `.pkl` files inside the directory `sas_helper/` as some of the files are too large to be uploaded on a GitHub repo. These files have been purposefully added to `.gitignore` due to this reason."
      ]
    },
    {
      "cell_type": "code",
      "execution_count": null,
      "id": "969e9e5b",
      "metadata": {
        "id": "969e9e5b",
        "outputId": "435b1234-328e-4dfa-fb5b-8b4e4449a57f"
      },
      "outputs": [
        {
          "name": "stdout",
          "output_type": "stream",
          "text": [
            "{0: 'Adsorbed layer', 1: 'Barbell aniso', 2: 'Bcc paracrystal aniso', 3: 'Binary hard sphere', 4: 'Broad peak', 5: 'Capped cylinder aniso', 6: 'Core shell bicelle aniso', 7: 'Core shell bicelle elliptical aniso', 8: 'Core shell bicelle elliptical belt rough aniso', 9: 'Core shell cylinder aniso', 10: 'Core shell ellipsoid aniso', 11: 'Core shell parallelepiped aniso', 12: 'Core shell sphere', 13: 'Cylinder aniso', 14: 'Dab', 15: 'Ellipsoid aniso', 16: 'Elliptical cylinder aniso', 17: 'Fcc paracrystal aniso', 18: 'Flexible cylinder', 19: 'Fractal', 20: 'Fractal core shell', 21: 'Fuzzy sphere', 22: 'Gauss lorentz gel', 23: 'Gel fit', 24: 'Hollow cylinder aniso', 25: 'Hollow rectangular prism aniso', 26: 'Lamellar hg', 27: 'Lamellar hg stack caille', 28: 'Lamellar stack paracrystal', 29: 'Mass fractal', 30: 'Mono gauss coil', 31: 'Multilayer vesicle', 32: 'Parallelepiped aniso', 33: 'Pearl necklace', 34: 'Poly gauss coil', 35: 'Polymer micelle', 36: 'Raspberry', 37: 'Rectangular prism aniso', 38: 'Sc paracrystal aniso', 39: 'Sphere', 40: 'Spinodal', 41: 'Stacked disks aniso', 42: 'Star polymer', 43: 'Surface fractal', 44: 'Teubner strey', 45: 'Triaxial ellipsoid aniso'}\n"
          ]
        }
      ],
      "source": [
        "with open(\"sas_helper/model_names.pkl\", \"rb\") as pf:    #\n",
        "    model_names = pickle.load(pf)\n",
        "print(model_names)"
      ]
    },
    {
      "cell_type": "markdown",
      "id": "61f50b62",
      "metadata": {
        "id": "61f50b62"
      },
      "source": [
        "In our case, the model name is given as"
      ]
    },
    {
      "cell_type": "code",
      "execution_count": null,
      "id": "a0941813",
      "metadata": {
        "id": "a0941813",
        "outputId": "80e68dea-0887-4408-a223-734bab7befc0"
      },
      "outputs": [
        {
          "data": {
            "text/plain": [
              "'Sphere'"
            ]
          },
          "execution_count": 8,
          "metadata": {},
          "output_type": "execute_result"
        }
      ],
      "source": [
        "model_names[39]"
      ]
    },
    {
      "cell_type": "markdown",
      "id": "23804d5c",
      "metadata": {
        "id": "23804d5c"
      },
      "source": [
        "### loading instrument parameters"
      ]
    },
    {
      "cell_type": "code",
      "execution_count": null,
      "id": "2934bebd",
      "metadata": {
        "id": "2934bebd"
      },
      "outputs": [],
      "source": [
        "inst_params = {}\n",
        "for partition in [\"test\", \"train\", \"val\"]:\n",
        "    with open(f\"sas_helper/inst_params_{partition}.pkl\", \"rb\") as pf:\n",
        "        inst_params[partition] = pickle.load(pf)"
      ]
    },
    {
      "cell_type": "code",
      "execution_count": null,
      "id": "2203eb0b",
      "metadata": {
        "id": "2203eb0b",
        "outputId": "a8d00725-1181-488d-b02c-227c539d6427"
      },
      "outputs": [
        {
          "data": {
            "text/plain": [
              "torch.Size([181531, 10])"
            ]
          },
          "execution_count": 10,
          "metadata": {},
          "output_type": "execute_result"
        }
      ],
      "source": [
        "inst_params['train'].shape"
      ]
    },
    {
      "cell_type": "code",
      "execution_count": null,
      "id": "529018a9",
      "metadata": {
        "id": "529018a9",
        "outputId": "a5521efc-e539-4319-8d81-5d15225dc3e8"
      },
      "outputs": [
        {
          "data": {
            "text/plain": [
              "tensor([0., 1., 0., 1., 1., 0., 0., 1., 0., 0.])"
            ]
          },
          "execution_count": 11,
          "metadata": {},
          "output_type": "execute_result"
        }
      ],
      "source": [
        "inst_params['train'][0]"
      ]
    },
    {
      "cell_type": "markdown",
      "id": "10016955",
      "metadata": {
        "id": "10016955"
      },
      "source": [
        "We loaded all the instrument parameters inside the `inst_params` dictionary, with the corresponding partition as key. The 10 parameters that are one-hot encoded are:"
      ]
    },
    {
      "cell_type": "code",
      "execution_count": null,
      "id": "cc3a658b",
      "metadata": {
        "id": "cc3a658b",
        "outputId": "a44d531a-ae06-41a5-aa3f-359ff57c5ac7"
      },
      "outputs": [
        {
          "name": "stdout",
          "output_type": "stream",
          "text": [
            "['Lam_4.5', 'Lam_6.0', 'zdepth_0.001', 'zdepth_0.002', 'InstSetting_1', 'InstSetting_2', 'InstSetting_3', 'SlitSetting_1', 'SlitSetting_2', 'SlitSetting_3']\n"
          ]
        }
      ],
      "source": [
        "inst_params_names  = ['Lam_4.5', 'Lam_6.0', 'zdepth_0.001', 'zdepth_0.002', 'InstSetting_1', 'InstSetting_2', 'InstSetting_3', 'SlitSetting_1', 'SlitSetting_2', 'SlitSetting_3']\n",
        "print(inst_params_names)"
      ]
    },
    {
      "cell_type": "markdown",
      "id": "bae1c200",
      "metadata": {
        "id": "bae1c200"
      },
      "source": [
        "- Lam = Lambda, wavelength of monochromatized neutrons in Angstroms. Two possible values [4.5, 6.0]\n",
        "- zdepth = sample thickness, Two possible values [0.001, 0.002]\n",
        "- InstSetting = Instrument setting. 3 possible values [1, 2, 3]\n",
        "- SlitSetting = slit (collimation) setting, 3 possible values [1, 2, 3]\n",
        "\n",
        "Again, variables are one-hot encoded. Order of columns matters. This means that case 0 (described above) was measured with a wavelength of 4.5, a sample thickness of 0.001, and a slit setting of 2. (check)\n",
        "\n",
        "This matrix can be used as **input features** for the regression or classification task.\n"
      ]
    },
    {
      "cell_type": "markdown",
      "id": "690ec05a",
      "metadata": {
        "id": "690ec05a"
      },
      "source": [
        "### pytorch dataloader\n",
        "We will now create a dataloader from our train, test, and val datasets which can then directly be fed in their respective loops."
      ]
    },
    {
      "cell_type": "code",
      "execution_count": null,
      "id": "d977541c",
      "metadata": {
        "id": "d977541c"
      },
      "outputs": [],
      "source": [
        "train_dataloader = DataLoader(\n",
        "    train_data,\n",
        "    batch_size=32, # play with this also\n",
        "    num_workers=1, #modify to your cpus available!\n",
        "    shuffle=True,\n",
        ")\n",
        "test_dataloader = DataLoader(\n",
        "    test_data,\n",
        "    batch_size=32,\n",
        "    num_workers=1,\n",
        "    shuffle=True,\n",
        ")\n",
        "val_dataloader = DataLoader(\n",
        "    val_data,\n",
        "    batch_size=32,\n",
        "    num_workers=1,\n",
        "    shuffle=True,\n",
        ")"
      ]
    },
    {
      "cell_type": "code",
      "execution_count": null,
      "id": "3b4662ac",
      "metadata": {
        "id": "3b4662ac"
      },
      "outputs": [],
      "source": [
        "train_iter = iter(train_dataloader)\n",
        "test_iter = iter(test_dataloader)\n",
        "val_iter = iter(val_dataloader)"
      ]
    },
    {
      "cell_type": "markdown",
      "id": "f6934fb2",
      "metadata": {
        "id": "f6934fb2"
      },
      "source": [
        "## model"
      ]
    },
    {
      "cell_type": "markdown",
      "id": "945193a3",
      "metadata": {
        "id": "945193a3"
      },
      "source": [
        "In the next cell, we will try to use a GPU if it is available. Otherwise, we will resort to the CPU."
      ]
    },
    {
      "cell_type": "code",
      "execution_count": null,
      "id": "e7900072",
      "metadata": {
        "id": "e7900072"
      },
      "outputs": [],
      "source": [
        "if torch.cuda.device_count() > 0:\n",
        "    device = torch.device(\"cuda:0\")\n",
        "elif torch.mps.device_count() > 0:\n",
        "    device = torch.device(\"mps:0\")\n",
        "else:\n",
        "    device=torch.device(\"cpu\")"
      ]
    },
    {
      "cell_type": "markdown",
      "id": "c458388c",
      "metadata": {
        "id": "c458388c"
      },
      "source": [
        "Now, we will implement our model, containing various Convolution, pooling and fully connected layers."
      ]
    },
    {
      "cell_type": "code",
      "execution_count": null,
      "id": "366090c3",
      "metadata": {
        "id": "366090c3"
      },
      "outputs": [],
      "source": [
        "class model(nn.Module):\n",
        "    def __init__(self):\n",
        "        super().__init__()\n",
        "        # conv layers and batch normalization\n",
        "        self.conv1 = nn.Conv2d(1, 64, kernel_size=3, padding=1)\n",
        "        self.bn1 = nn.BatchNorm2d(64)\n",
        "        self.conv2 = nn.Conv2d(64, 128, kernel_size=3, padding=1)\n",
        "        self.bn2 = nn.BatchNorm2d(128)\n",
        "        self.conv3 = nn.Conv2d(128, 256, kernel_size=3, padding=1)\n",
        "        self.bn3 = nn.BatchNorm2d(256)\n",
        "\n",
        "        # Pooling layer\n",
        "        self.pool = nn.MaxPool2d(2, 2)\n",
        "\n",
        "        self.dropout = nn.Dropout(0.5)\n",
        "\n",
        "        # fully connected layers\n",
        "        self.fc1 = nn.Linear(256 * 32 * 18, 512)\n",
        "        self.fc2 = nn.Linear(512, 128)\n",
        "        self.fc3 = nn.Linear(128, 46)  # 46 output classes based on model_names.pkl\n",
        "\n",
        "    def forward(self, x):\n",
        "        x = x.unsqueeze(1)\n",
        "\n",
        "        x = self.pool(F.relu(self.bn1(self.conv1(x))))\n",
        "        x = self.pool(F.relu(self.bn2(self.conv2(x))))\n",
        "        x = self.pool(F.relu(self.bn3(self.conv3(x))))\n",
        "\n",
        "        # Flatten\n",
        "        x = x.view(-1, 256 * 32 * 18)\n",
        "\n",
        "        x = self.dropout(F.relu(self.fc1(x)))\n",
        "        x = self.dropout(F.relu(self.fc2(x)))\n",
        "        x = self.fc3(x)\n",
        "\n",
        "        return x\n",
        "\n",
        "model = model()\n",
        "model = model.to(device)\n",
        "\n",
        "loss_func = nn.CrossEntropyLoss()\n",
        "optimizer = optim.SGD(model.parameters(), lr=0.01, momentum=0.8)"
      ]
    },
    {
      "cell_type": "markdown",
      "id": "3ca515d1",
      "metadata": {
        "id": "3ca515d1"
      },
      "source": [
        "Let's use our model class and run a training loop using the class and our training dataset."
      ]
    },
    {
      "cell_type": "code",
      "execution_count": null,
      "id": "85e30f4e",
      "metadata": {
        "id": "85e30f4e",
        "outputId": "c062b79e-8cc3-4af7-afc5-08cfe177d595"
      },
      "outputs": [
        {
          "name": "stdout",
          "output_type": "stream",
          "text": [
            "model(\n",
            "  (conv1): Conv2d(32, 64, kernel_size=(3, 3), stride=(1, 1), padding=(1, 1))\n",
            "  (bn1): BatchNorm2d(64, eps=1e-05, momentum=0.1, affine=True, track_running_stats=True)\n",
            "  (conv2): Conv2d(64, 128, kernel_size=(3, 3), stride=(1, 1), padding=(1, 1))\n",
            "  (bn2): BatchNorm2d(128, eps=1e-05, momentum=0.1, affine=True, track_running_stats=True)\n",
            "  (conv3): Conv2d(128, 256, kernel_size=(3, 3), stride=(1, 1), padding=(1, 1))\n",
            "  (bn3): BatchNorm2d(256, eps=1e-05, momentum=0.1, affine=True, track_running_stats=True)\n",
            "  (pool): MaxPool2d(kernel_size=2, stride=2, padding=0, dilation=1, ceil_mode=False)\n",
            "  (dropout): Dropout(p=0.5, inplace=False)\n",
            "  (fc1): Linear(in_features=147456, out_features=512, bias=True)\n",
            "  (fc2): Linear(in_features=512, out_features=128, bias=True)\n",
            "  (fc3): Linear(in_features=128, out_features=46, bias=True)\n",
            ")\n",
            "18\n"
          ]
        }
      ],
      "source": [
        "weights = list(model.parameters())\n",
        "print(model)\n",
        "print(len(weights))"
      ]
    },
    {
      "cell_type": "code",
      "execution_count": null,
      "id": "0f4c35da",
      "metadata": {
        "id": "0f4c35da",
        "outputId": "2b90e7b4-1a6b-4772-85a1-4b51cd1aaf07"
      },
      "outputs": [
        {
          "name": "stdout",
          "output_type": "stream",
          "text": [
            "Epoch [1/5], Batch [0/5673], Loss: 3.8599\n",
            "Epoch [1/5], Batch [5/5673], Loss: 3.9826\n",
            "Epoch [1/5], Batch [10/5673], Loss: 3.8599\n",
            "Epoch [1/5], Batch [15/5673], Loss: 3.8287\n",
            "Epoch [1/5], Batch [20/5673], Loss: 3.8171\n"
          ]
        },
        {
          "ename": "KeyboardInterrupt",
          "evalue": "",
          "output_type": "error",
          "traceback": [
            "\u001b[0;31m---------------------------------------------------------------------------\u001b[0m",
            "\u001b[0;31mKeyboardInterrupt\u001b[0m                         Traceback (most recent call last)",
            "\u001b[1;32m/home/h_h/projects/dlp/SANS/main.ipynb Cell 36\u001b[0m line \u001b[0;36m3\n\u001b[1;32m     <a href='vscode-notebook-cell://wsl%2Bubuntu/home/h_h/projects/dlp/SANS/main.ipynb#X50sdnNjb2RlLXJlbW90ZQ%3D%3D?line=28'>29</a>\u001b[0m loss \u001b[39m=\u001b[39m loss_func(outputs, train_labels)\n\u001b[1;32m     <a href='vscode-notebook-cell://wsl%2Bubuntu/home/h_h/projects/dlp/SANS/main.ipynb#X50sdnNjb2RlLXJlbW90ZQ%3D%3D?line=30'>31</a>\u001b[0m \u001b[39m# Backward pass and optimize\u001b[39;00m\n\u001b[0;32m---> <a href='vscode-notebook-cell://wsl%2Bubuntu/home/h_h/projects/dlp/SANS/main.ipynb#X50sdnNjb2RlLXJlbW90ZQ%3D%3D?line=31'>32</a>\u001b[0m loss\u001b[39m.\u001b[39;49mbackward()\n\u001b[1;32m     <a href='vscode-notebook-cell://wsl%2Bubuntu/home/h_h/projects/dlp/SANS/main.ipynb#X50sdnNjb2RlLXJlbW90ZQ%3D%3D?line=32'>33</a>\u001b[0m optimizer\u001b[39m.\u001b[39mstep()\n\u001b[1;32m     <a href='vscode-notebook-cell://wsl%2Bubuntu/home/h_h/projects/dlp/SANS/main.ipynb#X50sdnNjb2RlLXJlbW90ZQ%3D%3D?line=34'>35</a>\u001b[0m \u001b[39m# Statistics\u001b[39;00m\n",
            "File \u001b[0;32m~/projects/venv/lib/python3.12/site-packages/torch/_tensor.py:626\u001b[0m, in \u001b[0;36mTensor.backward\u001b[0;34m(self, gradient, retain_graph, create_graph, inputs)\u001b[0m\n\u001b[1;32m    616\u001b[0m \u001b[39mif\u001b[39;00m has_torch_function_unary(\u001b[39mself\u001b[39m):\n\u001b[1;32m    617\u001b[0m     \u001b[39mreturn\u001b[39;00m handle_torch_function(\n\u001b[1;32m    618\u001b[0m         Tensor\u001b[39m.\u001b[39mbackward,\n\u001b[1;32m    619\u001b[0m         (\u001b[39mself\u001b[39m,),\n\u001b[0;32m   (...)\u001b[0m\n\u001b[1;32m    624\u001b[0m         inputs\u001b[39m=\u001b[39minputs,\n\u001b[1;32m    625\u001b[0m     )\n\u001b[0;32m--> 626\u001b[0m torch\u001b[39m.\u001b[39;49mautograd\u001b[39m.\u001b[39;49mbackward(\n\u001b[1;32m    627\u001b[0m     \u001b[39mself\u001b[39;49m, gradient, retain_graph, create_graph, inputs\u001b[39m=\u001b[39;49minputs\n\u001b[1;32m    628\u001b[0m )\n",
            "File \u001b[0;32m~/projects/venv/lib/python3.12/site-packages/torch/autograd/__init__.py:347\u001b[0m, in \u001b[0;36mbackward\u001b[0;34m(tensors, grad_tensors, retain_graph, create_graph, grad_variables, inputs)\u001b[0m\n\u001b[1;32m    342\u001b[0m     retain_graph \u001b[39m=\u001b[39m create_graph\n\u001b[1;32m    344\u001b[0m \u001b[39m# The reason we repeat the same comment below is that\u001b[39;00m\n\u001b[1;32m    345\u001b[0m \u001b[39m# some Python versions print out the first line of a multi-line function\u001b[39;00m\n\u001b[1;32m    346\u001b[0m \u001b[39m# calls in the traceback and some print out the last line\u001b[39;00m\n\u001b[0;32m--> 347\u001b[0m _engine_run_backward(\n\u001b[1;32m    348\u001b[0m     tensors,\n\u001b[1;32m    349\u001b[0m     grad_tensors_,\n\u001b[1;32m    350\u001b[0m     retain_graph,\n\u001b[1;32m    351\u001b[0m     create_graph,\n\u001b[1;32m    352\u001b[0m     inputs,\n\u001b[1;32m    353\u001b[0m     allow_unreachable\u001b[39m=\u001b[39;49m\u001b[39mTrue\u001b[39;49;00m,\n\u001b[1;32m    354\u001b[0m     accumulate_grad\u001b[39m=\u001b[39;49m\u001b[39mTrue\u001b[39;49;00m,\n\u001b[1;32m    355\u001b[0m )\n",
            "File \u001b[0;32m~/projects/venv/lib/python3.12/site-packages/torch/autograd/graph.py:823\u001b[0m, in \u001b[0;36m_engine_run_backward\u001b[0;34m(t_outputs, *args, **kwargs)\u001b[0m\n\u001b[1;32m    821\u001b[0m     unregister_hooks \u001b[39m=\u001b[39m _register_logging_hooks_on_whole_graph(t_outputs)\n\u001b[1;32m    822\u001b[0m \u001b[39mtry\u001b[39;00m:\n\u001b[0;32m--> 823\u001b[0m     \u001b[39mreturn\u001b[39;00m Variable\u001b[39m.\u001b[39;49m_execution_engine\u001b[39m.\u001b[39;49mrun_backward(  \u001b[39m# Calls into the C++ engine to run the backward pass\u001b[39;49;00m\n\u001b[1;32m    824\u001b[0m         t_outputs, \u001b[39m*\u001b[39;49margs, \u001b[39m*\u001b[39;49m\u001b[39m*\u001b[39;49mkwargs\n\u001b[1;32m    825\u001b[0m     )  \u001b[39m# Calls into the C++ engine to run the backward pass\u001b[39;00m\n\u001b[1;32m    826\u001b[0m \u001b[39mfinally\u001b[39;00m:\n\u001b[1;32m    827\u001b[0m     \u001b[39mif\u001b[39;00m attach_logging_hooks:\n",
            "\u001b[0;31mKeyboardInterrupt\u001b[0m: "
          ]
        }
      ],
      "source": [
        "epochs = 5\n",
        "batch_size = 32\n",
        "best_loss = float('inf')\n",
        "\n",
        "for epoch in range(epochs):\n",
        "    model.train()\n",
        "    running_loss = 0.0\n",
        "\n",
        "    train_iter = iter(train_dataloader)\n",
        "\n",
        "    num_batches = 0\n",
        "\n",
        "    for batch_idx in range(len(train_dataloader)):\n",
        "        # Zeroing the gradients\n",
        "        optimizer.zero_grad()\n",
        "        train_images, train_labels = next(train_iter)\n",
        "\n",
        "        train_images = train_images.to(device)\n",
        "        train_labels = train_labels.to(device)\n",
        "\n",
        "        outputs = model(train_images)\n",
        "        loss = loss_func(outputs, train_labels)\n",
        "\n",
        "        loss.backward()\n",
        "        optimizer.step()\n",
        "\n",
        "        # Statistics\n",
        "        running_loss += loss.item()\n",
        "        num_batches += 1\n",
        "\n",
        "        if batch_idx % 5 == 0:\n",
        "            print(f'Epoch [{epoch+1}/{epochs}], Batch [{batch_idx}/{len(train_dataloader)}], '\n",
        "                  f'Loss: {loss.item():.4f}')\n",
        "\n",
        "    # Calculate average loss for the epoch\n",
        "    epoch_loss = running_loss / num_batches\n",
        "    print(f'Epoch [{epoch+1}/{epochs}] complete. Average loss: {epoch_loss:.4f}')\n",
        "\n",
        "SAVE_PATH = './saved_models/saved_model.pth'\n",
        "torch.save(model.state_dict(), SAVE_PATH)"
      ]
    },
    {
      "cell_type": "code",
      "execution_count": null,
      "id": "1cb8a996",
      "metadata": {
        "id": "1cb8a996",
        "outputId": "90ac7271-97a7-41d7-8e01-14bc4fd032ed"
      },
      "outputs": [
        {
          "name": "stdout",
          "output_type": "stream",
          "text": [
            "Final loss: 3.8217\n",
            "Training accuracy: 0.00%\n"
          ]
        }
      ],
      "source": [
        "print(f\"Final loss: {loss.item():.4f}\")\n",
        "\n",
        "# to calculate accuracy\n",
        "_, predicted = torch.max(outputs.data, 1)\n",
        "total = train_labels.size(0)\n",
        "correct = (predicted == train_labels).sum().item()\n",
        "accuracy = 100 * correct / total\n",
        "\n",
        "print(f\"Training accuracy: {accuracy:.2f}%\")\n"
      ]
    }
  ],
  "metadata": {
    "kernelspec": {
      "display_name": "Python 3",
      "name": "python3"
    },
    "language_info": {
      "codemirror_mode": {
        "name": "ipython",
        "version": 3
      },
      "file_extension": ".py",
      "mimetype": "text/x-python",
      "name": "python",
      "nbconvert_exporter": "python",
      "pygments_lexer": "ipython3",
      "version": "3.12.3"
    },
    "colab": {
      "provenance": [],
      "gpuType": "T4"
    },
    "accelerator": "GPU"
  },
  "nbformat": 4,
  "nbformat_minor": 5
}