{
  "cells": [
    {
      "cell_type": "markdown",
      "id": "7fe95a38",
      "metadata": {
        "id": "7fe95a38"
      },
      "source": [
        "# SANS: Using CNN to predict model ID\n",
        "We will utilize the zenodo [repository](https://zenodo.org/records/10119316) as our data for this project. We will download the dataset files in the `./data/` directory."
      ]
    },
    {
      "cell_type": "code",
      "execution_count": null,
      "id": "34a5c907",
      "metadata": {
        "id": "34a5c907"
      },
      "outputs": [],
      "source": [
        "%colors lightbg\n",
        "%matplotlib inline"
      ]
    },
    {
      "cell_type": "code",
      "execution_count": null,
      "id": "c60faf40",
      "metadata": {
        "id": "c60faf40"
      },
      "outputs": [],
      "source": [
        "import h5py\n",
        "# import fsspec\n",
        "import torch\n",
        "from torch import nn\n",
        "import pickle\n",
        "import torchvision\n",
        "import matplotlib.pyplot as plt\n",
        "from torch.utils.data import DataLoader\n",
        "from torch.utils.data import Dataset\n",
        "import torch.nn.functional as F\n",
        "import torch.optim as optim"
      ]
    },
    {
      "cell_type": "markdown",
      "id": "dc108ad0",
      "metadata": {
        "id": "dc108ad0"
      },
      "source": [
        "## load data"
      ]
    },
    {
      "cell_type": "code",
      "execution_count": 3,
      "id": "t_oeAe1uL7B5",
      "metadata": {
        "colab": {
          "base_uri": "https://localhost:8080/"
        },
        "id": "t_oeAe1uL7B5",
        "outputId": "6acea8a4-6235-409e-cd28-f28df743718d"
      },
      "outputs": [
        {
          "name": "stdout",
          "output_type": "stream",
          "text": [
            "  % Total    % Received % Xferd  Average Speed   Time    Time     Time  Current\n",
            "                                 Dload  Upload   Total   Spent    Left  Speed\n",
            "100 24.9G  100 24.9G    0     0  19.3M      0  0:22:02  0:22:02 --:--:-- 18.4M\n",
            "  % Total    % Received % Xferd  Average Speed   Time    Time     Time  Current\n",
            "                                 Dload  Upload   Total   Spent    Left  Speed\n",
            "100 7293M  100 7293M    0     0  20.9M      0  0:05:47  0:05:47 --:--:-- 25.5M\n",
            "  % Total    % Received % Xferd  Average Speed   Time    Time     Time  Current\n",
            "                                 Dload  Upload   Total   Spent    Left  Speed\n",
            "100 3646M  100 3646M    0     0  17.6M      0  0:03:26  0:03:26 --:--:-- 15.0M\n"
          ]
        }
      ],
      "source": [
        "!curl -o ./data/train.h5 https://zenodo.org/records/10119316/files/train.h5\n",
        "!curl -o ./data/test.h5 https://zenodo.org/records/10119316/files/test.h5\n",
        "!curl -o ./data/val.h5 https://zenodo.org/records/10119316/files/val.h5"
      ]
    },
    {
      "cell_type": "code",
      "execution_count": 4,
      "id": "p8FhKrWoL_05",
      "metadata": {
        "colab": {
          "base_uri": "https://localhost:8080/"
        },
        "id": "p8FhKrWoL_05",
        "outputId": "14891e58-61ce-4060-9d2a-6eac8f29b3ee"
      },
      "outputs": [
        {
          "name": "stdout",
          "output_type": "stream",
          "text": [
            "<KeysViewHDF5 ['data', 'target']>\n",
            "<HDF5 dataset \"data\": shape (181531, 256, 144), type \"<f4\"> <HDF5 dataset \"target\": shape (181531,), type \"|i1\">\n"
          ]
        }
      ],
      "source": [
        "train_file = h5py.File(\"./data/train.h5\", \"r\")\n",
        "test_file = h5py.File(\"./data/test.h5\", \"r\")\n",
        "val_file = h5py.File(\"./data/val.h5\", \"r\")\n",
        "print(train_file.keys())\n",
        "print(train_file['data'], train_file['target'])"
      ]
    },
    {
      "cell_type": "code",
      "execution_count": null,
      "id": "5cf141f4",
      "metadata": {
        "id": "5cf141f4"
      },
      "outputs": [],
      "source": [
        "# ----------- RUN THIS CELL IF YOU WANT TO DOWNLOAD THE DATA SET -------------\n",
        "#!curl -o train.h5 https://zenodo.org/records/10119316/files/train.h5\n",
        "#!curl -o test.h5 https://zenodo.org/records/10119316/files/test.h5\n",
        "#!curl -o val.h5 https://zenodo.org/records/10119316/files/val.h5"
      ]
    },
    {
      "cell_type": "code",
      "execution_count": null,
      "id": "85e743d0",
      "metadata": {
        "id": "85e743d0",
        "outputId": "f70b78b1-307c-4c86-edf0-dc4b05189efe"
      },
      "outputs": [
        {
          "data": {
            "text/plain": [
              "'\\ntrain_url = \"https://zenodo.org/records/10119316/files/train.h5\"\\ntest_url = \"https://zenodo.org/records/10119316/files/test.h5\"\\nval_url = \"https://zenodo.org/records/10119316/files/val.h5\"\\nremote_f = fsspec.open(train_url, mode=\"rb\")\\nif hasattr(remote_f, \"open\"):\\n    remote_f = remote_f.open()\\'\\n'"
            ]
          },
          "execution_count": 4,
          "metadata": {},
          "output_type": "execute_result"
        }
      ],
      "source": [
        "# --------- TO DIRECTLY RUN DATA FROM THE REPO ------------\n",
        "'''\n",
        "train_url = \"https://zenodo.org/records/10119316/files/train.h5\"\n",
        "test_url = \"https://zenodo.org/records/10119316/files/test.h5\"\n",
        "val_url = \"https://zenodo.org/records/10119316/files/val.h5\"\n",
        "remote_f = fsspec.open(train_url, mode=\"rb\")\n",
        "if hasattr(remote_f, \"open\"):\n",
        "    remote_f = remote_f.open()'\n",
        "'''"
      ]
    },
    {
      "cell_type": "code",
      "execution_count": null,
      "id": "98d9190b",
      "metadata": {
        "id": "98d9190b"
      },
      "outputs": [],
      "source": [
        "#train_file = h5py.File(\"./data/train.h5\", \"r\")\n",
        "#test_file = h5py.File(\"./data/test.h5\", \"r\")\n",
        "#val_file = h5py.File(\"./data/val.h5\", \"r\")\n",
        "#print(train_file.keys())"
      ]
    },
    {
      "cell_type": "code",
      "execution_count": null,
      "id": "0ce2b42f",
      "metadata": {
        "id": "0ce2b42f"
      },
      "outputs": [],
      "source": [
        "#print(train_file['data'], train_file['target'])"
      ]
    },
    {
      "cell_type": "code",
      "execution_count": 5,
      "id": "b7934a10",
      "metadata": {
        "id": "b7934a10"
      },
      "outputs": [],
      "source": [
        "# class H5Dataset(Dataset):\n",
        "#     def __init__(self, h5_path, transforms=None):\n",
        "#         self.h5_file = h5py.File(h5_path, \"r\")\n",
        "#         self.transform = transforms\n",
        "\n",
        "#     def __getitem__(self, index):\n",
        "#         sample = self.h5_file[\"data\"][index]\n",
        "#         if self.transform is not None:\n",
        "#             sample = self.transform(sample)\n",
        "#         return (\n",
        "#             sample,\n",
        "#             int(self.h5_file[\"target\"][index]),\n",
        "#         )\n",
        "\n",
        "#     def __len__(self):\n",
        "#         return self.h5_file[\"target\"].size\n",
        "\n",
        "class H5Dataset(Dataset):\n",
        "    def __init__(self, h5_path, transforms=None):\n",
        "        self.h5_file = h5py.File(h5_path, \"r\")\n",
        "        self.transform = transforms\n",
        "\n",
        "    def __getitem__(self, index):\n",
        "        sample = self.h5_file[\"data\"][index]\n",
        "        # Apply transforms if provided\n",
        "        if self.transform is not None:\n",
        "            sample = self.transform(sample)\n",
        "        return (\n",
        "            sample,\n",
        "            int(self.h5_file[\"target\"][index]),\n",
        "        )\n",
        "\n",
        "    def __len__(self):\n",
        "        return self.h5_file[\"target\"].size"
      ]
    },
    {
      "cell_type": "code",
      "execution_count": 6,
      "id": "cb701191",
      "metadata": {
        "id": "cb701191"
      },
      "outputs": [],
      "source": [
        "transforms = torchvision.transforms.Compose(\n",
        "    [\n",
        "        torchvision.transforms.ToTensor(),\n",
        "        torchvision.transforms.Resize((180, 180), antialias=True),\n",
        "        torch.nn.ReLU(inplace=True),  # remove negative values if any\n",
        "        torchvision.transforms.Lambda(lambda x: torch.log(x + 1.0)),\n",
        "        torchvision.transforms.Lambda(\n",
        "            lambda x: x / torch.max(x) if torch.max(x) > 0 else x\n",
        "        ),\n",
        "    ]\n",
        ")\n",
        "train_data = H5Dataset(\"./data/train.h5\")\n",
        "test_data = H5Dataset(\"./data/test.h5\")\n",
        "val_data = H5Dataset(\"./data/val.h5\")"
      ]
    },
    {
      "cell_type": "code",
      "execution_count": 7,
      "id": "a1340b58",
      "metadata": {
        "colab": {
          "base_uri": "https://localhost:8080/"
        },
        "id": "a1340b58",
        "outputId": "3b0e45e0-ab45-465c-f981-b297c301462f"
      },
      "outputs": [
        {
          "name": "stdout",
          "output_type": "stream",
          "text": [
            "181531\n"
          ]
        }
      ],
      "source": [
        "print(len(train_data))"
      ]
    },
    {
      "cell_type": "markdown",
      "id": "5a437e4c",
      "metadata": {
        "id": "5a437e4c"
      },
      "source": [
        "### Plotting a typical 2D intensity array"
      ]
    },
    {
      "cell_type": "code",
      "execution_count": 8,
      "id": "12b6ab18",
      "metadata": {
        "colab": {
          "base_uri": "https://localhost:8080/",
          "height": 452
        },
        "id": "12b6ab18",
        "outputId": "2b90c2a9-c984-475f-82dd-d3fac6b5cfdf"
      },
      "outputs": [
        {
          "data": {
            "image/png": "[encoded data removed]",
            "text/plain": [
              "<Figure size 640x480 with 1 Axes>"
            ]
          },
          "metadata": {},
          "output_type": "display_data"
        }
      ],
      "source": [
        "idx = 537\n",
        "psd_array = train_data[idx][0]\n",
        "target = train_data[idx][1]\n",
        "plt.figure()\n",
        "plt.imshow(psd_array)\n",
        "plt.title(target)\n",
        "plt.show()"
      ]
    },
    {
      "cell_type": "markdown",
      "id": "3092a0ce",
      "metadata": {
        "id": "3092a0ce"
      },
      "source": [
        "### exploring the model names"
      ]
    },
    {
      "cell_type": "markdown",
      "id": "6fb6d8d9",
      "metadata": {
        "id": "6fb6d8d9"
      },
      "source": [
        "Manually add the `.pkl` files inside the directory `sas_helper/` as some of the files are too large to be uploaded on a GitHub repo. These files have been purposefully added to `.gitignore` due to this reason."
      ]
    },
    {
      "cell_type": "code",
      "execution_count": 9,
      "id": "969e9e5b",
      "metadata": {
        "colab": {
          "base_uri": "https://localhost:8080/"
        },
        "id": "969e9e5b",
        "outputId": "3f143482-7c00-4793-f015-ac50e749cfab"
      },
      "outputs": [
        {
          "name": "stdout",
          "output_type": "stream",
          "text": [
            "{0: 'Adsorbed layer', 1: 'Barbell aniso', 2: 'Bcc paracrystal aniso', 3: 'Binary hard sphere', 4: 'Broad peak', 5: 'Capped cylinder aniso', 6: 'Core shell bicelle aniso', 7: 'Core shell bicelle elliptical aniso', 8: 'Core shell bicelle elliptical belt rough aniso', 9: 'Core shell cylinder aniso', 10: 'Core shell ellipsoid aniso', 11: 'Core shell parallelepiped aniso', 12: 'Core shell sphere', 13: 'Cylinder aniso', 14: 'Dab', 15: 'Ellipsoid aniso', 16: 'Elliptical cylinder aniso', 17: 'Fcc paracrystal aniso', 18: 'Flexible cylinder', 19: 'Fractal', 20: 'Fractal core shell', 21: 'Fuzzy sphere', 22: 'Gauss lorentz gel', 23: 'Gel fit', 24: 'Hollow cylinder aniso', 25: 'Hollow rectangular prism aniso', 26: 'Lamellar hg', 27: 'Lamellar hg stack caille', 28: 'Lamellar stack paracrystal', 29: 'Mass fractal', 30: 'Mono gauss coil', 31: 'Multilayer vesicle', 32: 'Parallelepiped aniso', 33: 'Pearl necklace', 34: 'Poly gauss coil', 35: 'Polymer micelle', 36: 'Raspberry', 37: 'Rectangular prism aniso', 38: 'Sc paracrystal aniso', 39: 'Sphere', 40: 'Spinodal', 41: 'Stacked disks aniso', 42: 'Star polymer', 43: 'Surface fractal', 44: 'Teubner strey', 45: 'Triaxial ellipsoid aniso'}\n"
          ]
        }
      ],
      "source": [
        "with open(\"sas_helper/model_names.pkl\", \"rb\") as pf:    #\n",
        "    model_names = pickle.load(pf)\n",
        "print(model_names)"
      ]
    },
    {
      "cell_type": "markdown",
      "id": "61f50b62",
      "metadata": {
        "id": "61f50b62"
      },
      "source": [
        "In our case, the model name is given as"
      ]
    },
    {
      "cell_type": "code",
      "execution_count": 10,
      "id": "a0941813",
      "metadata": {
        "colab": {
          "base_uri": "https://localhost:8080/",
          "height": 35
        },
        "id": "a0941813",
        "outputId": "3df6b5dc-c3d5-49ec-f765-0046bc11dd20"
      },
      "outputs": [
        {
          "data": {
            "application/vnd.google.colaboratory.intrinsic+json": {
              "type": "string"
            },
            "text/plain": [
              "'Sphere'"
            ]
          },
          "execution_count": 10,
          "metadata": {},
          "output_type": "execute_result"
        }
      ],
      "source": [
        "model_names[39]"
      ]
    },
    {
      "cell_type": "markdown",
      "id": "23804d5c",
      "metadata": {
        "id": "23804d5c"
      },
      "source": [
        "### loading instrument parameters"
      ]
    },
    {
      "cell_type": "code",
      "execution_count": 11,
      "id": "2934bebd",
      "metadata": {
        "id": "2934bebd"
      },
      "outputs": [],
      "source": [
        "inst_params = {}\n",
        "for partition in [\"test\", \"train\", \"val\"]:\n",
        "    with open(f\"sas_helper/inst_params_{partition}.pkl\", \"rb\") as pf:\n",
        "        inst_params[partition] = pickle.load(pf)"
      ]
    },
    {
      "cell_type": "code",
      "execution_count": 12,
      "id": "2203eb0b",
      "metadata": {
        "colab": {
          "base_uri": "https://localhost:8080/"
        },
        "id": "2203eb0b",
        "outputId": "a6004582-2049-4102-d690-551cb0ea906d"
      },
      "outputs": [
        {
          "data": {
            "text/plain": [
              "torch.Size([181531, 10])"
            ]
          },
          "execution_count": 12,
          "metadata": {},
          "output_type": "execute_result"
        }
      ],
      "source": [
        "inst_params['train'].shape"
      ]
    },
    {
      "cell_type": "code",
      "execution_count": 13,
      "id": "529018a9",
      "metadata": {
        "colab": {
          "base_uri": "https://localhost:8080/"
        },
        "id": "529018a9",
        "outputId": "4721a185-0367-45ba-ed8c-0e7b8f9f942f"
      },
      "outputs": [
        {
          "data": {
            "text/plain": [
              "tensor([0., 1., 0., 1., 1., 0., 0., 1., 0., 0.])"
            ]
          },
          "execution_count": 13,
          "metadata": {},
          "output_type": "execute_result"
        }
      ],
      "source": [
        "inst_params['train'][0]"
      ]
    },
    {
      "cell_type": "markdown",
      "id": "10016955",
      "metadata": {
        "id": "10016955"
      },
      "source": [
        "We loaded all the instrument parameters inside the `inst_params` dictionary, with the corresponding partition as key. The 10 parameters that are one-hot encoded are:"
      ]
    },
    {
      "cell_type": "code",
      "execution_count": 14,
      "id": "cc3a658b",
      "metadata": {
        "colab": {
          "base_uri": "https://localhost:8080/"
        },
        "id": "cc3a658b",
        "outputId": "3549041d-26da-4e7d-bb09-27f2dfc133d6"
      },
      "outputs": [
        {
          "name": "stdout",
          "output_type": "stream",
          "text": [
            "['Lam_4.5', 'Lam_6.0', 'zdepth_0.001', 'zdepth_0.002', 'InstSetting_1', 'InstSetting_2', 'InstSetting_3', 'SlitSetting_1', 'SlitSetting_2', 'SlitSetting_3']\n"
          ]
        }
      ],
      "source": [
        "inst_params_names  = ['Lam_4.5', 'Lam_6.0', 'zdepth_0.001', 'zdepth_0.002', 'InstSetting_1', 'InstSetting_2', 'InstSetting_3', 'SlitSetting_1', 'SlitSetting_2', 'SlitSetting_3']\n",
        "print(inst_params_names)"
      ]
    },
    {
      "cell_type": "markdown",
      "id": "bae1c200",
      "metadata": {
        "id": "bae1c200"
      },
      "source": [
        "- Lam = Lambda, wavelength of monochromatized neutrons in Angstroms. Two possible values [4.5, 6.0]\n",
        "- zdepth = sample thickness, Two possible values [0.001, 0.002]\n",
        "- InstSetting = Instrument setting. 3 possible values [1, 2, 3]\n",
        "- SlitSetting = slit (collimation) setting, 3 possible values [1, 2, 3]\n",
        "\n",
        "Again, variables are one-hot encoded. Order of columns matters. This means that case 0 (described above) was measured with a wavelength of 4.5, a sample thickness of 0.001, and a slit setting of 2. (check)\n",
        "\n",
        "This matrix can be used as **input features** for the regression or classification task.\n"
      ]
    },
    {
      "cell_type": "markdown",
      "id": "690ec05a",
      "metadata": {
        "id": "690ec05a"
      },
      "source": [
        "### pytorch dataloader\n",
        "We will now create a dataloader from our train, test, and val datasets which can then directly be fed in their respective loops."
      ]
    },
    {
      "cell_type": "code",
      "execution_count": 15,
      "id": "d977541c",
      "metadata": {
        "id": "d977541c"
      },
      "outputs": [],
      "source": [
        "train_dataloader = DataLoader(\n",
        "    train_data,\n",
        "    batch_size=32, # play with this also\n",
        "    num_workers=1, #modify to your cpus available!\n",
        "    shuffle=True,\n",
        ")\n",
        "test_dataloader = DataLoader(\n",
        "    test_data,\n",
        "    batch_size=32,\n",
        "    num_workers=1,\n",
        "    shuffle=True,\n",
        ")\n",
        "val_dataloader = DataLoader(\n",
        "    val_data,\n",
        "    batch_size=32,\n",
        "    num_workers=1,\n",
        "    shuffle=True,\n",
        ")"
      ]
    },
    {
      "cell_type": "code",
      "execution_count": 16,
      "id": "3b4662ac",
      "metadata": {
        "id": "3b4662ac"
      },
      "outputs": [],
      "source": [
        "train_iter = iter(train_dataloader)\n",
        "test_iter = iter(test_dataloader)\n",
        "val_iter = iter(val_dataloader)"
      ]
    },
    {
      "cell_type": "markdown",
      "id": "f6934fb2",
      "metadata": {
        "id": "f6934fb2"
      },
      "source": [
        "## model"
      ]
    },
    {
      "cell_type": "markdown",
      "id": "945193a3",
      "metadata": {
        "id": "945193a3"
      },
      "source": [
        "In the next cell, we will try to use a GPU if it is available. Otherwise, we will resort to the CPU."
      ]
    },
    {
      "cell_type": "code",
      "execution_count": 17,
      "id": "e7900072",
      "metadata": {
        "id": "e7900072"
      },
      "outputs": [],
      "source": [
        "if torch.cuda.device_count() > 0:\n",
        "    device = torch.device(\"cuda:0\")\n",
        "elif torch.mps.device_count() > 0:\n",
        "    device = torch.device(\"mps:0\")\n",
        "else:\n",
        "    device=torch.device(\"cpu\")"
      ]
    },
    {
      "cell_type": "markdown",
      "id": "c458388c",
      "metadata": {
        "id": "c458388c"
      },
      "source": [
        "Now, we will implement our model, containing various Convolution, pooling and fully connected layers."
      ]
    },
    {
      "cell_type": "code",
      "execution_count": 18,
      "id": "366090c3",
      "metadata": {
        "id": "366090c3"
      },
      "outputs": [],
      "source": [
        "class simple_CNN(nn.Module):\n",
        "    def __init__(self):\n",
        "        super().__init__()\n",
        "        # conv layers and batch normalization\n",
        "        self.conv1 = nn.Conv2d(1, 64, kernel_size=3, padding=1)\n",
        "        self.bn1 = nn.BatchNorm2d(64)\n",
        "        self.conv2 = nn.Conv2d(64, 128, kernel_size=3, padding=1)\n",
        "        self.bn2 = nn.BatchNorm2d(128)\n",
        "        self.conv3 = nn.Conv2d(128, 256, kernel_size=3, padding=1)\n",
        "        self.bn3 = nn.BatchNorm2d(256)\n",
        "\n",
        "        # Pooling layer\n",
        "        self.pool = nn.MaxPool2d(2, 2)\n",
        "        self.dropout = nn.Dropout(0.5)\n",
        "\n",
        "        # fully connected layers\n",
        "        self.fc1 = nn.Linear(256 * 32 * 18, 512)\n",
        "        self.fc2 = nn.Linear(512, 128)\n",
        "        self.fc3 = nn.Linear(128, 46)  # 46 output classes based on model_names.pkl\n",
        "\n",
        "    def forward(self, x):\n",
        "        x = x.unsqueeze(1)\n",
        "\n",
        "        x = self.pool(F.relu(self.bn1(self.conv1(x))))\n",
        "        x = self.pool(F.relu(self.bn2(self.conv2(x))))\n",
        "        x = self.pool(F.relu(self.bn3(self.conv3(x))))\n",
        "\n",
        "        # Flatten\n",
        "        x = x.view(-1, 256 * 32 * 18)\n",
        "\n",
        "        x = self.dropout(F.relu(self.fc1(x)))\n",
        "        x = self.dropout(F.relu(self.fc2(x)))\n",
        "        x = self.fc3(x)\n",
        "\n",
        "        return x\n",
        "\n",
        "model = simple_CNN()\n",
        "model = model.to(device)\n",
        "\n",
        "loss_func = nn.CrossEntropyLoss()\n",
        "optimizer = optim.SGD(model.parameters(), lr=0.01, momentum=0.8)"
      ]
    },
    {
      "cell_type": "code",
      "execution_count": 19,
      "id": "1cb75aca",
      "metadata": {
        "id": "1cb75aca"
      },
      "outputs": [],
      "source": [
        "class vgg_19(nn.Module):\n",
        "    def __init__(self):\n",
        "        super().__init__()\n",
        "        self.features = nn.Sequential(\n",
        "            # Block 1\n",
        "            nn.Conv2d(1, 64, kernel_size=3, padding=1),\n",
        "            nn.ReLU(inplace=True),\n",
        "            nn.Conv2d(64, 64, kernel_size=3, padding=1),\n",
        "            nn.ReLU(inplace=True),\n",
        "            nn.MaxPool2d(kernel_size=2, stride=2),\n",
        "\n",
        "            # Block 2\n",
        "            nn.Conv2d(64, 128, kernel_size=3, padding=1),\n",
        "            nn.ReLU(inplace=True),\n",
        "            nn.Conv2d(128, 128, kernel_size=3, padding=1),\n",
        "            nn.ReLU(inplace=True),\n",
        "            nn.MaxPool2d(kernel_size=2, stride=2),\n",
        "\n",
        "            # Block 3\n",
        "            nn.Conv2d(128, 256, kernel_size=3, padding=1),\n",
        "            nn.ReLU(inplace=True),\n",
        "            nn.Conv2d(256, 256, kernel_size=3, padding=1),\n",
        "            nn.ReLU(inplace=True),\n",
        "            nn.Conv2d(256, 512, kernel_size=3, padding=1),\n",
        "            nn.ReLU(inplace=True),\n",
        "            nn.Conv2d(512, 512, kernel_size=3, padding=1),\n",
        "            nn.ReLU(inplace=True),\n",
        "            nn.MaxPool2d(kernel_size=2, stride=2),\n",
        "\n",
        "            # Block 4\n",
        "            nn.Conv2d(512, 1024, kernel_size=3, padding=1),\n",
        "            nn.ReLU(inplace=True),\n",
        "            nn.Conv2d(1024, 1024, kernel_size=3, padding=1),\n",
        "            nn.ReLU(inplace=True),\n",
        "            nn.Conv2d(1024, 2048, kernel_size=3, padding=1),\n",
        "            nn.ReLU(inplace=True),\n",
        "            nn.Conv2d(2048, 2048, kernel_size=3, padding=1),\n",
        "            nn.ReLU(inplace=True),\n",
        "            nn.MaxPool2d(kernel_size=2, stride=2),\n",
        "\n",
        "            # Block 5\n",
        "            nn.Conv2d(2048, 4096, kernel_size=3, padding=1),\n",
        "            nn.ReLU(inplace=True),\n",
        "            nn.Conv2d(4096, 4096, kernel_size=3, padding=1),\n",
        "            nn.ReLU(inplace=True),\n",
        "            nn.Conv2d(4096, 4096, kernel_size=3, padding=1),\n",
        "            nn.ReLU(inplace=True),\n",
        "            nn.Conv2d(4096, 4096, kernel_size=3, padding=1),\n",
        "            nn.ReLU(inplace=True),\n",
        "            nn.MaxPool2d(kernel_size=2, stride=2)\n",
        "        )\n",
        "\n",
        "        # Calculate the flattened feature size after 5 max pooling layers of stride 2\n",
        "        self.feature_size = 4096 * 8 * 4\n",
        "\n",
        "        # Classifier layers\n",
        "        self.classifier = nn.Sequential(\n",
        "            nn.Linear(self.feature_size, 4096),\n",
        "            nn.ReLU(inplace=True),\n",
        "            nn.Dropout(),\n",
        "            nn.Linear(4096, 1024),\n",
        "            nn.ReLU(inplace=True),\n",
        "            nn.Dropout(),\n",
        "            nn.Linear(1024, 46)\n",
        "        )\n",
        "\n",
        "    def forward(self, x):\n",
        "        x = self.features(x)\n",
        "        x = torch.flatten(x, 1)\n",
        "        x = self.classifier(x)\n",
        "        return x\n",
        "\n",
        "model = vgg_19()\n",
        "model = model.to(device)\n",
        "\n",
        "loss_func = nn.CrossEntropyLoss()\n",
        "optimizer = optim.Adam(model.parameters(), lr=0.001)"
      ]
    },
    {
      "cell_type": "code",
      "execution_count": null,
      "id": "fcb77642",
      "metadata": {
        "id": "fcb77642"
      },
      "outputs": [],
      "source": [
        "model = torchvision.models.resnet34(weights=None)\n",
        "\n",
        "model.conv1 = nn.Conv2d(1, 64, kernel_size=7, stride=2, padding=3, bias=False)\n",
        "model.conv1 = nn.Conv2d(32, 64, kernel_size=7, stride=2, padding=3, bias=False)  # Changed input channels to 32\n",
        "model.conv1 = nn.Conv2d(3, 64, kernel_size=7, stride=2, padding=3, bias=False)\n",
        "\n",
        "num_features = model.fc.in_features\n",
        "model.fc = nn.Linear(num_features, 46)\n",
        "\n",
        "model = model.to(device)\n",
        "\n",
        "loss_func = nn.CrossEntropyLoss()\n",
        "optimizer = optim.Adam(model.parameters(), lr=0.001)"
      ]
    },
    {
      "cell_type": "markdown",
      "id": "3ca515d1",
      "metadata": {
        "id": "3ca515d1"
      },
      "source": [
        "Let's use our model class and run a training loop using the class and our training dataset."
      ]
    },
    {
      "cell_type": "code",
      "execution_count": 21,
      "id": "85e30f4e",
      "metadata": {
        "colab": {
          "base_uri": "https://localhost:8080/"
        },
        "id": "85e30f4e",
        "outputId": "1f21dbbb-65f4-4eb1-e46f-9b30eacf2dde"
      },
      "outputs": [
        {
          "name": "stdout",
          "output_type": "stream",
          "text": [
            "ResNet(\n",
            "  (conv1): Conv2d(1, 64, kernel_size=(7, 7), stride=(2, 2), padding=(3, 3), bias=False)\n",
            "  (bn1): BatchNorm2d(64, eps=1e-05, momentum=0.1, affine=True, track_running_stats=True)\n",
            "  (relu): ReLU(inplace=True)\n",
            "  (maxpool): MaxPool2d(kernel_size=3, stride=2, padding=1, dilation=1, ceil_mode=False)\n",
            "  (layer1): Sequential(\n",
            "    (0): BasicBlock(\n",
            "      (conv1): Conv2d(64, 64, kernel_size=(3, 3), stride=(1, 1), padding=(1, 1), bias=False)\n",
            "      (bn1): BatchNorm2d(64, eps=1e-05, momentum=0.1, affine=True, track_running_stats=True)\n",
            "      (relu): ReLU(inplace=True)\n",
            "      (conv2): Conv2d(64, 64, kernel_size=(3, 3), stride=(1, 1), padding=(1, 1), bias=False)\n",
            "      (bn2): BatchNorm2d(64, eps=1e-05, momentum=0.1, affine=True, track_running_stats=True)\n",
            "    )\n",
            "    (1): BasicBlock(\n",
            "      (conv1): Conv2d(64, 64, kernel_size=(3, 3), stride=(1, 1), padding=(1, 1), bias=False)\n",
            "      (bn1): BatchNorm2d(64, eps=1e-05, momentum=0.1, affine=True, track_running_stats=True)\n",
            "      (relu): ReLU(inplace=True)\n",
            "      (conv2): Conv2d(64, 64, kernel_size=(3, 3), stride=(1, 1), padding=(1, 1), bias=False)\n",
            "      (bn2): BatchNorm2d(64, eps=1e-05, momentum=0.1, affine=True, track_running_stats=True)\n",
            "    )\n",
            "    (2): BasicBlock(\n",
            "      (conv1): Conv2d(64, 64, kernel_size=(3, 3), stride=(1, 1), padding=(1, 1), bias=False)\n",
            "      (bn1): BatchNorm2d(64, eps=1e-05, momentum=0.1, affine=True, track_running_stats=True)\n",
            "      (relu): ReLU(inplace=True)\n",
            "      (conv2): Conv2d(64, 64, kernel_size=(3, 3), stride=(1, 1), padding=(1, 1), bias=False)\n",
            "      (bn2): BatchNorm2d(64, eps=1e-05, momentum=0.1, affine=True, track_running_stats=True)\n",
            "    )\n",
            "  )\n",
            "  (layer2): Sequential(\n",
            "    (0): BasicBlock(\n",
            "      (conv1): Conv2d(64, 128, kernel_size=(3, 3), stride=(2, 2), padding=(1, 1), bias=False)\n",
            "      (bn1): BatchNorm2d(128, eps=1e-05, momentum=0.1, affine=True, track_running_stats=True)\n",
            "      (relu): ReLU(inplace=True)\n",
            "      (conv2): Conv2d(128, 128, kernel_size=(3, 3), stride=(1, 1), padding=(1, 1), bias=False)\n",
            "      (bn2): BatchNorm2d(128, eps=1e-05, momentum=0.1, affine=True, track_running_stats=True)\n",
            "      (downsample): Sequential(\n",
            "        (0): Conv2d(64, 128, kernel_size=(1, 1), stride=(2, 2), bias=False)\n",
            "        (1): BatchNorm2d(128, eps=1e-05, momentum=0.1, affine=True, track_running_stats=True)\n",
            "      )\n",
            "    )\n",
            "    (1): BasicBlock(\n",
            "      (conv1): Conv2d(128, 128, kernel_size=(3, 3), stride=(1, 1), padding=(1, 1), bias=False)\n",
            "      (bn1): BatchNorm2d(128, eps=1e-05, momentum=0.1, affine=True, track_running_stats=True)\n",
            "      (relu): ReLU(inplace=True)\n",
            "      (conv2): Conv2d(128, 128, kernel_size=(3, 3), stride=(1, 1), padding=(1, 1), bias=False)\n",
            "      (bn2): BatchNorm2d(128, eps=1e-05, momentum=0.1, affine=True, track_running_stats=True)\n",
            "    )\n",
            "    (2): BasicBlock(\n",
            "      (conv1): Conv2d(128, 128, kernel_size=(3, 3), stride=(1, 1), padding=(1, 1), bias=False)\n",
            "      (bn1): BatchNorm2d(128, eps=1e-05, momentum=0.1, affine=True, track_running_stats=True)\n",
            "      (relu): ReLU(inplace=True)\n",
            "      (conv2): Conv2d(128, 128, kernel_size=(3, 3), stride=(1, 1), padding=(1, 1), bias=False)\n",
            "      (bn2): BatchNorm2d(128, eps=1e-05, momentum=0.1, affine=True, track_running_stats=True)\n",
            "    )\n",
            "    (3): BasicBlock(\n",
            "      (conv1): Conv2d(128, 128, kernel_size=(3, 3), stride=(1, 1), padding=(1, 1), bias=False)\n",
            "      (bn1): BatchNorm2d(128, eps=1e-05, momentum=0.1, affine=True, track_running_stats=True)\n",
            "      (relu): ReLU(inplace=True)\n",
            "      (conv2): Conv2d(128, 128, kernel_size=(3, 3), stride=(1, 1), padding=(1, 1), bias=False)\n",
            "      (bn2): BatchNorm2d(128, eps=1e-05, momentum=0.1, affine=True, track_running_stats=True)\n",
            "    )\n",
            "  )\n",
            "  (layer3): Sequential(\n",
            "    (0): BasicBlock(\n",
            "      (conv1): Conv2d(128, 256, kernel_size=(3, 3), stride=(2, 2), padding=(1, 1), bias=False)\n",
            "      (bn1): BatchNorm2d(256, eps=1e-05, momentum=0.1, affine=True, track_running_stats=True)\n",
            "      (relu): ReLU(inplace=True)\n",
            "      (conv2): Conv2d(256, 256, kernel_size=(3, 3), stride=(1, 1), padding=(1, 1), bias=False)\n",
            "      (bn2): BatchNorm2d(256, eps=1e-05, momentum=0.1, affine=True, track_running_stats=True)\n",
            "      (downsample): Sequential(\n",
            "        (0): Conv2d(128, 256, kernel_size=(1, 1), stride=(2, 2), bias=False)\n",
            "        (1): BatchNorm2d(256, eps=1e-05, momentum=0.1, affine=True, track_running_stats=True)\n",
            "      )\n",
            "    )\n",
            "    (1): BasicBlock(\n",
            "      (conv1): Conv2d(256, 256, kernel_size=(3, 3), stride=(1, 1), padding=(1, 1), bias=False)\n",
            "      (bn1): BatchNorm2d(256, eps=1e-05, momentum=0.1, affine=True, track_running_stats=True)\n",
            "      (relu): ReLU(inplace=True)\n",
            "      (conv2): Conv2d(256, 256, kernel_size=(3, 3), stride=(1, 1), padding=(1, 1), bias=False)\n",
            "      (bn2): BatchNorm2d(256, eps=1e-05, momentum=0.1, affine=True, track_running_stats=True)\n",
            "    )\n",
            "    (2): BasicBlock(\n",
            "      (conv1): Conv2d(256, 256, kernel_size=(3, 3), stride=(1, 1), padding=(1, 1), bias=False)\n",
            "      (bn1): BatchNorm2d(256, eps=1e-05, momentum=0.1, affine=True, track_running_stats=True)\n",
            "      (relu): ReLU(inplace=True)\n",
            "      (conv2): Conv2d(256, 256, kernel_size=(3, 3), stride=(1, 1), padding=(1, 1), bias=False)\n",
            "      (bn2): BatchNorm2d(256, eps=1e-05, momentum=0.1, affine=True, track_running_stats=True)\n",
            "    )\n",
            "    (3): BasicBlock(\n",
            "      (conv1): Conv2d(256, 256, kernel_size=(3, 3), stride=(1, 1), padding=(1, 1), bias=False)\n",
            "      (bn1): BatchNorm2d(256, eps=1e-05, momentum=0.1, affine=True, track_running_stats=True)\n",
            "      (relu): ReLU(inplace=True)\n",
            "      (conv2): Conv2d(256, 256, kernel_size=(3, 3), stride=(1, 1), padding=(1, 1), bias=False)\n",
            "      (bn2): BatchNorm2d(256, eps=1e-05, momentum=0.1, affine=True, track_running_stats=True)\n",
            "    )\n",
            "    (4): BasicBlock(\n",
            "      (conv1): Conv2d(256, 256, kernel_size=(3, 3), stride=(1, 1), padding=(1, 1), bias=False)\n",
            "      (bn1): BatchNorm2d(256, eps=1e-05, momentum=0.1, affine=True, track_running_stats=True)\n",
            "      (relu): ReLU(inplace=True)\n",
            "      (conv2): Conv2d(256, 256, kernel_size=(3, 3), stride=(1, 1), padding=(1, 1), bias=False)\n",
            "      (bn2): BatchNorm2d(256, eps=1e-05, momentum=0.1, affine=True, track_running_stats=True)\n",
            "    )\n",
            "    (5): BasicBlock(\n",
            "      (conv1): Conv2d(256, 256, kernel_size=(3, 3), stride=(1, 1), padding=(1, 1), bias=False)\n",
            "      (bn1): BatchNorm2d(256, eps=1e-05, momentum=0.1, affine=True, track_running_stats=True)\n",
            "      (relu): ReLU(inplace=True)\n",
            "      (conv2): Conv2d(256, 256, kernel_size=(3, 3), stride=(1, 1), padding=(1, 1), bias=False)\n",
            "      (bn2): BatchNorm2d(256, eps=1e-05, momentum=0.1, affine=True, track_running_stats=True)\n",
            "    )\n",
            "  )\n",
            "  (layer4): Sequential(\n",
            "    (0): BasicBlock(\n",
            "      (conv1): Conv2d(256, 512, kernel_size=(3, 3), stride=(2, 2), padding=(1, 1), bias=False)\n",
            "      (bn1): BatchNorm2d(512, eps=1e-05, momentum=0.1, affine=True, track_running_stats=True)\n",
            "      (relu): ReLU(inplace=True)\n",
            "      (conv2): Conv2d(512, 512, kernel_size=(3, 3), stride=(1, 1), padding=(1, 1), bias=False)\n",
            "      (bn2): BatchNorm2d(512, eps=1e-05, momentum=0.1, affine=True, track_running_stats=True)\n",
            "      (downsample): Sequential(\n",
            "        (0): Conv2d(256, 512, kernel_size=(1, 1), stride=(2, 2), bias=False)\n",
            "        (1): BatchNorm2d(512, eps=1e-05, momentum=0.1, affine=True, track_running_stats=True)\n",
            "      )\n",
            "    )\n",
            "    (1): BasicBlock(\n",
            "      (conv1): Conv2d(512, 512, kernel_size=(3, 3), stride=(1, 1), padding=(1, 1), bias=False)\n",
            "      (bn1): BatchNorm2d(512, eps=1e-05, momentum=0.1, affine=True, track_running_stats=True)\n",
            "      (relu): ReLU(inplace=True)\n",
            "      (conv2): Conv2d(512, 512, kernel_size=(3, 3), stride=(1, 1), padding=(1, 1), bias=False)\n",
            "      (bn2): BatchNorm2d(512, eps=1e-05, momentum=0.1, affine=True, track_running_stats=True)\n",
            "    )\n",
            "    (2): BasicBlock(\n",
            "      (conv1): Conv2d(512, 512, kernel_size=(3, 3), stride=(1, 1), padding=(1, 1), bias=False)\n",
            "      (bn1): BatchNorm2d(512, eps=1e-05, momentum=0.1, affine=True, track_running_stats=True)\n",
            "      (relu): ReLU(inplace=True)\n",
            "      (conv2): Conv2d(512, 512, kernel_size=(3, 3), stride=(1, 1), padding=(1, 1), bias=False)\n",
            "      (bn2): BatchNorm2d(512, eps=1e-05, momentum=0.1, affine=True, track_running_stats=True)\n",
            "    )\n",
            "  )\n",
            "  (avgpool): AdaptiveAvgPool2d(output_size=(1, 1))\n",
            "  (fc): Linear(in_features=512, out_features=46, bias=True)\n",
            ")\n",
            "110\n"
          ]
        }
      ],
      "source": [
        "weights = list(model.parameters())\n",
        "print(model)\n",
        "print(len(weights))"
      ]
    },
    {
      "cell_type": "code",
      "execution_count": null,
      "id": "2PUreHna_dkh",
      "metadata": {
        "colab": {
          "base_uri": "https://localhost:8080/",
          "height": 1000
        },
        "id": "2PUreHna_dkh",
        "outputId": "a05a54ff-65c7-417b-a919-0805dc0dc828"
      },
      "outputs": [],
      "source": [
        "epochs = 64\n",
        "batch_size = 8\n",
        "best_loss = float('inf')\n",
        "\n",
        "for epoch in range(epochs):\n",
        "    model.train()\n",
        "    running_loss = 0.0\n",
        "\n",
        "    # Reset the iterator for each epoch\n",
        "    train_iter = iter(train_dataloader)\n",
        "    num_batches = 0\n",
        "\n",
        "    # Iterate through the batches within an epoch\n",
        "    for batch_idx, (train_images, train_labels) in enumerate(train_dataloader):\n",
        "        # Zeroing the gradients\n",
        "        optimizer.zero_grad()\n",
        "\n",
        "        train_images = train_images.to(device)\n",
        "        train_labels = train_labels.to(device)\n",
        "\n",
        "        # Reshape train_images to add a channel dimension (assuming grayscale)\n",
        "        train_images = train_images.unsqueeze(1)\n",
        "\n",
        "        outputs = model(train_images)\n",
        "        loss = loss_func(outputs, train_labels)\n",
        "\n",
        "        loss.backward()\n",
        "        optimizer.step()\n",
        "\n",
        "        # Statistics\n",
        "        running_loss += loss.item()\n",
        "        num_batches += 1\n",
        "\n",
        "        if batch_idx % 200 == 0:\n",
        "            print(f'Epoch [{epoch+1}/{epochs}], Batch [{batch_idx}/{len(train_dataloader)}], '\n",
        "                  f'Loss: {loss.item():.4f}')\n",
        "\n",
        "    # Calculate average loss for the epoch\n",
        "    epoch_loss = running_loss / num_batches\n",
        "    print(f'Epoch [{epoch+1}/{epochs}] complete. Average loss: {epoch_loss:.4f}')\n",
        "\n",
        "SAVE_PATH = './saved_models/saved_model.pth'\n",
        "torch.save(model.state_dict(), SAVE_PATH)"
      ]
    },
    {
      "cell_type": "code",
      "execution_count": null,
      "id": "0f4c35da",
      "metadata": {
        "colab": {
          "base_uri": "https://localhost:8080/",
          "height": 448
        },
        "id": "0f4c35da",
        "outputId": "362039ec-8825-4c7b-8e21-a90abf87c2ad"
      },
      "outputs": [],
      "source": [
        "epochs = 25\n",
        "batch_size = 32\n",
        "best_loss = float('inf')\n",
        "\n",
        "for epoch in range(epochs):\n",
        "    model.train()\n",
        "    running_loss = 0.0\n",
        "\n",
        "    train_iter = iter(train_dataloader)\n",
        "\n",
        "    num_batches = 0\n",
        "\n",
        "    for batch_idx in range(len(train_dataloader)):\n",
        "        # Zeroing the gradients\n",
        "        optimizer.zero_grad()\n",
        "        train_images, train_labels = next(train_iter)\n",
        "\n",
        "        train_images = train_images.to(device)\n",
        "        train_labels = train_labels.to(device)\n",
        "\n",
        "        outputs = model(train_images)\n",
        "        loss = loss_func(outputs, train_labels)\n",
        "\n",
        "        loss.backward()\n",
        "        optimizer.step()\n",
        "\n",
        "        # Statistics\n",
        "        running_loss += loss.item()\n",
        "        num_batches += 1\n",
        "\n",
        "        if batch_idx % 200 == 0:\n",
        "            print(f'Epoch [{epoch+1}/{epochs}], Batch [{batch_idx}/{len(train_dataloader)}], '\n",
        "                  f'Loss: {loss.item():.4f}')\n",
        "\n",
        "    # Calculate average loss for the epoch\n",
        "    epoch_loss = running_loss / num_batches\n",
        "    print(f'Epoch [{epoch+1}/{epochs}] complete. Average loss: {epoch_loss:.4f}')\n",
        "\n",
        "SAVE_PATH = './saved_models/saved_model.pth'\n",
        "torch.save(model.state_dict(), SAVE_PATH)"
      ]
    },
    {
      "cell_type": "code",
      "execution_count": 24,
      "id": "1cb8a996",
      "metadata": {
        "colab": {
          "base_uri": "https://localhost:8080/"
        },
        "id": "1cb8a996",
        "outputId": "3804633e-7b9c-4feb-caa3-1fba55d22584"
      },
      "outputs": [
        {
          "name": "stdout",
          "output_type": "stream",
          "text": [
            "Final loss: 1.1888\n",
            "Training accuracy: 55.56%\n"
          ]
        }
      ],
      "source": [
        "print(f\"Final loss: {loss.item():.4f}\")\n",
        "\n",
        "SAVE_PATH = './saved_models/saved_model.pth'\n",
        "torch.save(model.state_dict(), SAVE_PATH)\n",
        "\n",
        "# to calculate accuracy\n",
        "_, predicted = torch.max(outputs.data, 1)\n",
        "total = train_labels.size(0)\n",
        "correct = (predicted == train_labels).sum().item()\n",
        "accuracy = 100 * correct / total\n",
        "\n",
        "print(f\"Training accuracy: {accuracy:.2f}%\")\n"
      ]
    }
  ],
  "metadata": {
    "accelerator": "GPU",
    "colab": {
      "gpuType": "T4",
      "machine_shape": "hm",
      "provenance": []
    },
    "kernelspec": {
      "display_name": "Python 3",
      "name": "python3"
    },
    "language_info": {
      "codemirror_mode": {
        "name": "ipython",
        "version": 3
      },
      "file_extension": ".py",
      "mimetype": "text/x-python",
      "name": "python",
      "nbconvert_exporter": "python",
      "pygments_lexer": "ipython3",
      "version": "3.12.3"
    }
  },
  "nbformat": 4,
  "nbformat_minor": 5
}
